{
 "cells": [
  {
   "cell_type": "markdown",
   "id": "37c62a98",
   "metadata": {},
   "source": [
    "# Оценка метрик качества базовой модели"
   ]
  },
  {
   "cell_type": "code",
   "execution_count": null,
   "id": "7b8616fd",
   "metadata": {},
   "outputs": [],
   "source": [
    "%load_ext autoreload\n",
    "%autoreload 2"
   ]
  },
  {
   "cell_type": "code",
   "execution_count": null,
   "id": "2877ce80",
   "metadata": {},
   "outputs": [],
   "source": [
    "import pandas as pd\n",
    "import numpy as np\n",
    "\n",
    "import seaborn as sns\n",
    "import matplotlib.pyplot as plt\n",
    "%matplotlib inline\n",
    "from sklearn import set_config\n",
    "\n",
    "set_config(display='diagram')"
   ]
  },
  {
   "cell_type": "code",
   "execution_count": null,
   "id": "c5b4f01b",
   "metadata": {},
   "outputs": [],
   "source": [
    "from titanic.data.make_dataset import load_titanic\n",
    "from titanic.data.validation import train_test_split\n",
    "from titanic.models.train import make_baseline_model\n",
    "\n",
    "titanic = load_titanic()\n",
    "train, test = train_test_split(titanic)\n",
    "y_train = train['Survived']\n",
    "y_test = test['Survived']\n",
    "\n",
    "baseline_clf = make_baseline_model()\n",
    "baseline_clf"
   ]
  },
  {
   "cell_type": "markdown",
   "id": "27a2fdca",
   "metadata": {},
   "source": [
    "## Обучение модели"
   ]
  },
  {
   "cell_type": "code",
   "execution_count": null,
   "id": "f491c280",
   "metadata": {},
   "outputs": [],
   "source": [
    "%%time\n",
    "baseline_clf.fit(train, y_train);"
   ]
  },
  {
   "cell_type": "markdown",
   "id": "e1a9568b",
   "metadata": {},
   "source": [
    "## Оценка метрик"
   ]
  },
  {
   "cell_type": "code",
   "execution_count": null,
   "id": "fe47c72f",
   "metadata": {},
   "outputs": [],
   "source": [
    "from sklearn.metrics import plot_roc_curve\n",
    "\n",
    "plot_roc_curve(baseline_clf, test, y_test);"
   ]
  },
  {
   "cell_type": "code",
   "execution_count": null,
   "id": "47a40f42",
   "metadata": {},
   "outputs": [],
   "source": [
    "from sklearn.metrics import roc_auc_score\n",
    "\n",
    "roc_auc_score(y_test, baseline_clf.predict(test))"
   ]
  },
  {
   "cell_type": "code",
   "execution_count": null,
   "id": "b2477530",
   "metadata": {},
   "outputs": [],
   "source": [
    "import mlflow\n",
    "import mlflow.sklearn\n",
    "\n",
    "mlflow.set_tracking_uri(\"http://localhost:8081\")\n",
    "\n",
    "with mlflow.start_run(run_name=\"baseline-test\") as run:\n",
    "    sk_learn_rfr = baseline_clf\n",
    "\n",
    "    # Log parameters and metrics using the MLflow APIs\n",
    "    mlflow.log_metrics({\"roc_auc\": roc_auc_score(y_test, baseline_clf.predict(test))})\n",
    "\n",
    "    # Log the sklearn model and register as version 1\n",
    "#     mlflow.sklearn.log_model(\n",
    "#         sk_model=sk_learn_rfr,\n",
    "#         artifact_path=\"baseline\",\n",
    "#         registered_model_name=\"baseline-reg-model\"\n",
    "#     )"
   ]
  },
  {
   "cell_type": "code",
   "execution_count": null,
   "id": "5fbd2b25",
   "metadata": {},
   "outputs": [],
   "source": []
  }
 ],
 "metadata": {
  "kernelspec": {
   "display_name": "Python 3 (ipykernel)",
   "language": "python",
   "name": "python3"
  },
  "language_info": {
   "codemirror_mode": {
    "name": "ipython",
    "version": 3
   },
   "file_extension": ".py",
   "mimetype": "text/x-python",
   "name": "python",
   "nbconvert_exporter": "python",
   "pygments_lexer": "ipython3",
   "version": "3.8.2"
  }
 },
 "nbformat": 4,
 "nbformat_minor": 5
}
