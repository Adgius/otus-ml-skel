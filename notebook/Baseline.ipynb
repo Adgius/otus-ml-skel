{
 "cells": [
  {
   "cell_type": "markdown",
   "id": "37c62a98",
   "metadata": {},
   "source": [
    "# Оценка метрик качества базовой модели"
   ]
  },
  {
   "cell_type": "code",
   "execution_count": 10,
   "id": "7b8616fd",
   "metadata": {},
   "outputs": [
    {
     "name": "stdout",
     "output_type": "stream",
     "text": [
      "The autoreload extension is already loaded. To reload it, use:\n",
      "  %reload_ext autoreload\n"
     ]
    }
   ],
   "source": [
    "%load_ext autoreload\n",
    "%autoreload 2"
   ]
  },
  {
   "cell_type": "code",
   "execution_count": 12,
   "id": "2877ce80",
   "metadata": {},
   "outputs": [],
   "source": [
    "import pandas as pd\n",
    "import numpy as np\n",
    "\n",
    "import seaborn as sns\n",
    "import matplotlib.pyplot as plt\n",
    "%matplotlib inline\n",
    "from sklearn import set_config\n",
    "\n",
    "set_config(display='diagram')"
   ]
  },
  {
   "cell_type": "code",
   "execution_count": 21,
   "id": "c5b4f01b",
   "metadata": {},
   "outputs": [
    {
     "data": {
      "text/html": [
       "<style>#sk-189dacc1-31d4-4fdf-bb03-d80339e13d69 {color: black;background-color: white;}#sk-189dacc1-31d4-4fdf-bb03-d80339e13d69 pre{padding: 0;}#sk-189dacc1-31d4-4fdf-bb03-d80339e13d69 div.sk-toggleable {background-color: white;}#sk-189dacc1-31d4-4fdf-bb03-d80339e13d69 label.sk-toggleable__label {cursor: pointer;display: block;width: 100%;margin-bottom: 0;padding: 0.2em 0.3em;box-sizing: border-box;text-align: center;}#sk-189dacc1-31d4-4fdf-bb03-d80339e13d69 div.sk-toggleable__content {max-height: 0;max-width: 0;overflow: hidden;text-align: left;background-color: #f0f8ff;}#sk-189dacc1-31d4-4fdf-bb03-d80339e13d69 div.sk-toggleable__content pre {margin: 0.2em;color: black;border-radius: 0.25em;background-color: #f0f8ff;}#sk-189dacc1-31d4-4fdf-bb03-d80339e13d69 input.sk-toggleable__control:checked~div.sk-toggleable__content {max-height: 200px;max-width: 100%;overflow: auto;}#sk-189dacc1-31d4-4fdf-bb03-d80339e13d69 div.sk-estimator input.sk-toggleable__control:checked~label.sk-toggleable__label {background-color: #d4ebff;}#sk-189dacc1-31d4-4fdf-bb03-d80339e13d69 div.sk-label input.sk-toggleable__control:checked~label.sk-toggleable__label {background-color: #d4ebff;}#sk-189dacc1-31d4-4fdf-bb03-d80339e13d69 input.sk-hidden--visually {border: 0;clip: rect(1px 1px 1px 1px);clip: rect(1px, 1px, 1px, 1px);height: 1px;margin: -1px;overflow: hidden;padding: 0;position: absolute;width: 1px;}#sk-189dacc1-31d4-4fdf-bb03-d80339e13d69 div.sk-estimator {font-family: monospace;background-color: #f0f8ff;margin: 0.25em 0.25em;border: 1px dotted black;border-radius: 0.25em;box-sizing: border-box;}#sk-189dacc1-31d4-4fdf-bb03-d80339e13d69 div.sk-estimator:hover {background-color: #d4ebff;}#sk-189dacc1-31d4-4fdf-bb03-d80339e13d69 div.sk-parallel-item::after {content: \"\";width: 100%;border-bottom: 1px solid gray;flex-grow: 1;}#sk-189dacc1-31d4-4fdf-bb03-d80339e13d69 div.sk-label:hover label.sk-toggleable__label {background-color: #d4ebff;}#sk-189dacc1-31d4-4fdf-bb03-d80339e13d69 div.sk-serial::before {content: \"\";position: absolute;border-left: 1px solid gray;box-sizing: border-box;top: 2em;bottom: 0;left: 50%;}#sk-189dacc1-31d4-4fdf-bb03-d80339e13d69 div.sk-serial {display: flex;flex-direction: column;align-items: center;background-color: white;}#sk-189dacc1-31d4-4fdf-bb03-d80339e13d69 div.sk-item {z-index: 1;}#sk-189dacc1-31d4-4fdf-bb03-d80339e13d69 div.sk-parallel {display: flex;align-items: stretch;justify-content: center;background-color: white;}#sk-189dacc1-31d4-4fdf-bb03-d80339e13d69 div.sk-parallel-item {display: flex;flex-direction: column;position: relative;background-color: white;}#sk-189dacc1-31d4-4fdf-bb03-d80339e13d69 div.sk-parallel-item:first-child::after {align-self: flex-end;width: 50%;}#sk-189dacc1-31d4-4fdf-bb03-d80339e13d69 div.sk-parallel-item:last-child::after {align-self: flex-start;width: 50%;}#sk-189dacc1-31d4-4fdf-bb03-d80339e13d69 div.sk-parallel-item:only-child::after {width: 0;}#sk-189dacc1-31d4-4fdf-bb03-d80339e13d69 div.sk-dashed-wrapped {border: 1px dashed gray;margin: 0.2em;box-sizing: border-box;padding-bottom: 0.1em;background-color: white;position: relative;}#sk-189dacc1-31d4-4fdf-bb03-d80339e13d69 div.sk-label label {font-family: monospace;font-weight: bold;background-color: white;display: inline-block;line-height: 1.2em;}#sk-189dacc1-31d4-4fdf-bb03-d80339e13d69 div.sk-label-container {position: relative;z-index: 2;text-align: center;}#sk-189dacc1-31d4-4fdf-bb03-d80339e13d69 div.sk-container {display: inline-block;position: relative;}</style><div id=\"sk-189dacc1-31d4-4fdf-bb03-d80339e13d69\" class\"sk-top-container\"><div class=\"sk-container\"><div class=\"sk-item sk-dashed-wrapped\"><div class=\"sk-label-container\"><div class=\"sk-label sk-toggleable\"><input class=\"sk-toggleable__control sk-hidden--visually\" id=\"5d3d0c94-f177-4f45-adb2-81532283e1cd\" type=\"checkbox\" ><label class=\"sk-toggleable__label\" for=\"5d3d0c94-f177-4f45-adb2-81532283e1cd\">Pipeline</label><div class=\"sk-toggleable__content\"><pre>Pipeline(steps=[('preprocessor',\n",
       "                 ColumnTransformer(transformers=[('Embarked',\n",
       "                                                  Pipeline(steps=[('imputer',\n",
       "                                                                   SimpleImputer(strategy='most_frequent')),\n",
       "                                                                  ('onehot',\n",
       "                                                                   OneHotEncoder())]),\n",
       "                                                  ['Embarked']),\n",
       "                                                 ('Onehot',\n",
       "                                                  OneHotEncoder(handle_unknown='ignore'),\n",
       "                                                  ['Sex', 'Pclass'])])),\n",
       "                ('classifier', LogisticRegression())])</pre></div></div></div><div class=\"sk-serial\"><div class=\"sk-item sk-dashed-wrapped\"><div class=\"sk-label-container\"><div class=\"sk-label sk-toggleable\"><input class=\"sk-toggleable__control sk-hidden--visually\" id=\"ae283cb2-ab69-4f14-b771-a9dfa9048549\" type=\"checkbox\" ><label class=\"sk-toggleable__label\" for=\"ae283cb2-ab69-4f14-b771-a9dfa9048549\">preprocessor: ColumnTransformer</label><div class=\"sk-toggleable__content\"><pre>ColumnTransformer(transformers=[('Embarked',\n",
       "                                 Pipeline(steps=[('imputer',\n",
       "                                                  SimpleImputer(strategy='most_frequent')),\n",
       "                                                 ('onehot', OneHotEncoder())]),\n",
       "                                 ['Embarked']),\n",
       "                                ('Onehot',\n",
       "                                 OneHotEncoder(handle_unknown='ignore'),\n",
       "                                 ['Sex', 'Pclass'])])</pre></div></div></div><div class=\"sk-parallel\"><div class=\"sk-parallel-item\"><div class=\"sk-item\"><div class=\"sk-label-container\"><div class=\"sk-label sk-toggleable\"><input class=\"sk-toggleable__control sk-hidden--visually\" id=\"78cc2fa6-ec58-4eae-8605-abb4ef1881ef\" type=\"checkbox\" ><label class=\"sk-toggleable__label\" for=\"78cc2fa6-ec58-4eae-8605-abb4ef1881ef\">Embarked</label><div class=\"sk-toggleable__content\"><pre>['Embarked']</pre></div></div></div><div class=\"sk-serial\"><div class=\"sk-item\"><div class=\"sk-serial\"><div class=\"sk-item\"><div class=\"sk-estimator sk-toggleable\"><input class=\"sk-toggleable__control sk-hidden--visually\" id=\"8a5beb75-0abe-40c9-82b0-f2418e2c7b20\" type=\"checkbox\" ><label class=\"sk-toggleable__label\" for=\"8a5beb75-0abe-40c9-82b0-f2418e2c7b20\">SimpleImputer</label><div class=\"sk-toggleable__content\"><pre>SimpleImputer(strategy='most_frequent')</pre></div></div></div><div class=\"sk-item\"><div class=\"sk-estimator sk-toggleable\"><input class=\"sk-toggleable__control sk-hidden--visually\" id=\"9f029010-17ea-4ee6-8de0-43b28cf9ed1b\" type=\"checkbox\" ><label class=\"sk-toggleable__label\" for=\"9f029010-17ea-4ee6-8de0-43b28cf9ed1b\">OneHotEncoder</label><div class=\"sk-toggleable__content\"><pre>OneHotEncoder()</pre></div></div></div></div></div></div></div></div><div class=\"sk-parallel-item\"><div class=\"sk-item\"><div class=\"sk-label-container\"><div class=\"sk-label sk-toggleable\"><input class=\"sk-toggleable__control sk-hidden--visually\" id=\"1ebd704a-8a79-4682-a039-efa72d5ca601\" type=\"checkbox\" ><label class=\"sk-toggleable__label\" for=\"1ebd704a-8a79-4682-a039-efa72d5ca601\">Onehot</label><div class=\"sk-toggleable__content\"><pre>['Sex', 'Pclass']</pre></div></div></div><div class=\"sk-serial\"><div class=\"sk-item\"><div class=\"sk-estimator sk-toggleable\"><input class=\"sk-toggleable__control sk-hidden--visually\" id=\"f10a3878-4d01-41a2-8b30-4c4be25570d9\" type=\"checkbox\" ><label class=\"sk-toggleable__label\" for=\"f10a3878-4d01-41a2-8b30-4c4be25570d9\">OneHotEncoder</label><div class=\"sk-toggleable__content\"><pre>OneHotEncoder(handle_unknown='ignore')</pre></div></div></div></div></div></div></div></div><div class=\"sk-item\"><div class=\"sk-estimator sk-toggleable\"><input class=\"sk-toggleable__control sk-hidden--visually\" id=\"b59563a0-1a9b-4dfa-b07b-86ab17f2cdc7\" type=\"checkbox\" ><label class=\"sk-toggleable__label\" for=\"b59563a0-1a9b-4dfa-b07b-86ab17f2cdc7\">LogisticRegression</label><div class=\"sk-toggleable__content\"><pre>LogisticRegression()</pre></div></div></div></div></div></div></div>"
      ],
      "text/plain": [
       "Pipeline(steps=[('preprocessor',\n",
       "                 ColumnTransformer(transformers=[('Embarked',\n",
       "                                                  Pipeline(steps=[('imputer',\n",
       "                                                                   SimpleImputer(strategy='most_frequent')),\n",
       "                                                                  ('onehot',\n",
       "                                                                   OneHotEncoder())]),\n",
       "                                                  ['Embarked']),\n",
       "                                                 ('Onehot',\n",
       "                                                  OneHotEncoder(handle_unknown='ignore'),\n",
       "                                                  ['Sex', 'Pclass'])])),\n",
       "                ('classifier', LogisticRegression())])"
      ]
     },
     "execution_count": 21,
     "metadata": {},
     "output_type": "execute_result"
    }
   ],
   "source": [
    "from titanic.data.make_dataset import load_titanic\n",
    "from titanic.data.validation import train_test_split\n",
    "from titanic.models.train import make_baseline_model\n",
    "\n",
    "titanic = load_titanic()\n",
    "train, test = train_test_split(titanic)\n",
    "y_train = train['Survived']\n",
    "y_test = test['Survived']\n",
    "\n",
    "baseline_clf = make_baseline_model()\n",
    "baseline_clf"
   ]
  },
  {
   "cell_type": "markdown",
   "id": "27a2fdca",
   "metadata": {},
   "source": [
    "## Обучение модели"
   ]
  },
  {
   "cell_type": "code",
   "execution_count": 22,
   "id": "f491c280",
   "metadata": {},
   "outputs": [
    {
     "name": "stdout",
     "output_type": "stream",
     "text": [
      "CPU times: user 17.3 ms, sys: 2.12 ms, total: 19.5 ms\n",
      "Wall time: 18.4 ms\n"
     ]
    },
    {
     "data": {
      "text/html": [
       "<style>#sk-a9875ef7-cac7-4259-9b32-231496e2f481 {color: black;background-color: white;}#sk-a9875ef7-cac7-4259-9b32-231496e2f481 pre{padding: 0;}#sk-a9875ef7-cac7-4259-9b32-231496e2f481 div.sk-toggleable {background-color: white;}#sk-a9875ef7-cac7-4259-9b32-231496e2f481 label.sk-toggleable__label {cursor: pointer;display: block;width: 100%;margin-bottom: 0;padding: 0.2em 0.3em;box-sizing: border-box;text-align: center;}#sk-a9875ef7-cac7-4259-9b32-231496e2f481 div.sk-toggleable__content {max-height: 0;max-width: 0;overflow: hidden;text-align: left;background-color: #f0f8ff;}#sk-a9875ef7-cac7-4259-9b32-231496e2f481 div.sk-toggleable__content pre {margin: 0.2em;color: black;border-radius: 0.25em;background-color: #f0f8ff;}#sk-a9875ef7-cac7-4259-9b32-231496e2f481 input.sk-toggleable__control:checked~div.sk-toggleable__content {max-height: 200px;max-width: 100%;overflow: auto;}#sk-a9875ef7-cac7-4259-9b32-231496e2f481 div.sk-estimator input.sk-toggleable__control:checked~label.sk-toggleable__label {background-color: #d4ebff;}#sk-a9875ef7-cac7-4259-9b32-231496e2f481 div.sk-label input.sk-toggleable__control:checked~label.sk-toggleable__label {background-color: #d4ebff;}#sk-a9875ef7-cac7-4259-9b32-231496e2f481 input.sk-hidden--visually {border: 0;clip: rect(1px 1px 1px 1px);clip: rect(1px, 1px, 1px, 1px);height: 1px;margin: -1px;overflow: hidden;padding: 0;position: absolute;width: 1px;}#sk-a9875ef7-cac7-4259-9b32-231496e2f481 div.sk-estimator {font-family: monospace;background-color: #f0f8ff;margin: 0.25em 0.25em;border: 1px dotted black;border-radius: 0.25em;box-sizing: border-box;}#sk-a9875ef7-cac7-4259-9b32-231496e2f481 div.sk-estimator:hover {background-color: #d4ebff;}#sk-a9875ef7-cac7-4259-9b32-231496e2f481 div.sk-parallel-item::after {content: \"\";width: 100%;border-bottom: 1px solid gray;flex-grow: 1;}#sk-a9875ef7-cac7-4259-9b32-231496e2f481 div.sk-label:hover label.sk-toggleable__label {background-color: #d4ebff;}#sk-a9875ef7-cac7-4259-9b32-231496e2f481 div.sk-serial::before {content: \"\";position: absolute;border-left: 1px solid gray;box-sizing: border-box;top: 2em;bottom: 0;left: 50%;}#sk-a9875ef7-cac7-4259-9b32-231496e2f481 div.sk-serial {display: flex;flex-direction: column;align-items: center;background-color: white;}#sk-a9875ef7-cac7-4259-9b32-231496e2f481 div.sk-item {z-index: 1;}#sk-a9875ef7-cac7-4259-9b32-231496e2f481 div.sk-parallel {display: flex;align-items: stretch;justify-content: center;background-color: white;}#sk-a9875ef7-cac7-4259-9b32-231496e2f481 div.sk-parallel-item {display: flex;flex-direction: column;position: relative;background-color: white;}#sk-a9875ef7-cac7-4259-9b32-231496e2f481 div.sk-parallel-item:first-child::after {align-self: flex-end;width: 50%;}#sk-a9875ef7-cac7-4259-9b32-231496e2f481 div.sk-parallel-item:last-child::after {align-self: flex-start;width: 50%;}#sk-a9875ef7-cac7-4259-9b32-231496e2f481 div.sk-parallel-item:only-child::after {width: 0;}#sk-a9875ef7-cac7-4259-9b32-231496e2f481 div.sk-dashed-wrapped {border: 1px dashed gray;margin: 0.2em;box-sizing: border-box;padding-bottom: 0.1em;background-color: white;position: relative;}#sk-a9875ef7-cac7-4259-9b32-231496e2f481 div.sk-label label {font-family: monospace;font-weight: bold;background-color: white;display: inline-block;line-height: 1.2em;}#sk-a9875ef7-cac7-4259-9b32-231496e2f481 div.sk-label-container {position: relative;z-index: 2;text-align: center;}#sk-a9875ef7-cac7-4259-9b32-231496e2f481 div.sk-container {display: inline-block;position: relative;}</style><div id=\"sk-a9875ef7-cac7-4259-9b32-231496e2f481\" class\"sk-top-container\"><div class=\"sk-container\"><div class=\"sk-item sk-dashed-wrapped\"><div class=\"sk-label-container\"><div class=\"sk-label sk-toggleable\"><input class=\"sk-toggleable__control sk-hidden--visually\" id=\"d0a2f5e9-c877-4b67-8925-cfb749699e40\" type=\"checkbox\" ><label class=\"sk-toggleable__label\" for=\"d0a2f5e9-c877-4b67-8925-cfb749699e40\">Pipeline</label><div class=\"sk-toggleable__content\"><pre>Pipeline(steps=[('preprocessor',\n",
       "                 ColumnTransformer(transformers=[('Embarked',\n",
       "                                                  Pipeline(steps=[('imputer',\n",
       "                                                                   SimpleImputer(strategy='most_frequent')),\n",
       "                                                                  ('onehot',\n",
       "                                                                   OneHotEncoder())]),\n",
       "                                                  ['Embarked']),\n",
       "                                                 ('Onehot',\n",
       "                                                  OneHotEncoder(handle_unknown='ignore'),\n",
       "                                                  ['Sex', 'Pclass'])])),\n",
       "                ('classifier', LogisticRegression())])</pre></div></div></div><div class=\"sk-serial\"><div class=\"sk-item sk-dashed-wrapped\"><div class=\"sk-label-container\"><div class=\"sk-label sk-toggleable\"><input class=\"sk-toggleable__control sk-hidden--visually\" id=\"562907fa-b8ab-4fa2-b727-47359e54e90d\" type=\"checkbox\" ><label class=\"sk-toggleable__label\" for=\"562907fa-b8ab-4fa2-b727-47359e54e90d\">preprocessor: ColumnTransformer</label><div class=\"sk-toggleable__content\"><pre>ColumnTransformer(transformers=[('Embarked',\n",
       "                                 Pipeline(steps=[('imputer',\n",
       "                                                  SimpleImputer(strategy='most_frequent')),\n",
       "                                                 ('onehot', OneHotEncoder())]),\n",
       "                                 ['Embarked']),\n",
       "                                ('Onehot',\n",
       "                                 OneHotEncoder(handle_unknown='ignore'),\n",
       "                                 ['Sex', 'Pclass'])])</pre></div></div></div><div class=\"sk-parallel\"><div class=\"sk-parallel-item\"><div class=\"sk-item\"><div class=\"sk-label-container\"><div class=\"sk-label sk-toggleable\"><input class=\"sk-toggleable__control sk-hidden--visually\" id=\"26999a5d-c0c3-46d5-ba60-19cddb9d7c55\" type=\"checkbox\" ><label class=\"sk-toggleable__label\" for=\"26999a5d-c0c3-46d5-ba60-19cddb9d7c55\">Embarked</label><div class=\"sk-toggleable__content\"><pre>['Embarked']</pre></div></div></div><div class=\"sk-serial\"><div class=\"sk-item\"><div class=\"sk-serial\"><div class=\"sk-item\"><div class=\"sk-estimator sk-toggleable\"><input class=\"sk-toggleable__control sk-hidden--visually\" id=\"97c224ff-e6cd-4956-9256-f771e0b7372f\" type=\"checkbox\" ><label class=\"sk-toggleable__label\" for=\"97c224ff-e6cd-4956-9256-f771e0b7372f\">SimpleImputer</label><div class=\"sk-toggleable__content\"><pre>SimpleImputer(strategy='most_frequent')</pre></div></div></div><div class=\"sk-item\"><div class=\"sk-estimator sk-toggleable\"><input class=\"sk-toggleable__control sk-hidden--visually\" id=\"4ce66395-604f-476e-a8bb-4ca3de48fe7d\" type=\"checkbox\" ><label class=\"sk-toggleable__label\" for=\"4ce66395-604f-476e-a8bb-4ca3de48fe7d\">OneHotEncoder</label><div class=\"sk-toggleable__content\"><pre>OneHotEncoder()</pre></div></div></div></div></div></div></div></div><div class=\"sk-parallel-item\"><div class=\"sk-item\"><div class=\"sk-label-container\"><div class=\"sk-label sk-toggleable\"><input class=\"sk-toggleable__control sk-hidden--visually\" id=\"787c5870-cb22-48bf-8211-c1b92521a247\" type=\"checkbox\" ><label class=\"sk-toggleable__label\" for=\"787c5870-cb22-48bf-8211-c1b92521a247\">Onehot</label><div class=\"sk-toggleable__content\"><pre>['Sex', 'Pclass']</pre></div></div></div><div class=\"sk-serial\"><div class=\"sk-item\"><div class=\"sk-estimator sk-toggleable\"><input class=\"sk-toggleable__control sk-hidden--visually\" id=\"4fc710a9-19a0-4134-9028-ac724c292004\" type=\"checkbox\" ><label class=\"sk-toggleable__label\" for=\"4fc710a9-19a0-4134-9028-ac724c292004\">OneHotEncoder</label><div class=\"sk-toggleable__content\"><pre>OneHotEncoder(handle_unknown='ignore')</pre></div></div></div></div></div></div></div></div><div class=\"sk-item\"><div class=\"sk-estimator sk-toggleable\"><input class=\"sk-toggleable__control sk-hidden--visually\" id=\"2f956f01-a51b-47d8-9b37-eaf21a587be0\" type=\"checkbox\" ><label class=\"sk-toggleable__label\" for=\"2f956f01-a51b-47d8-9b37-eaf21a587be0\">LogisticRegression</label><div class=\"sk-toggleable__content\"><pre>LogisticRegression()</pre></div></div></div></div></div></div></div>"
      ],
      "text/plain": [
       "Pipeline(steps=[('preprocessor',\n",
       "                 ColumnTransformer(transformers=[('Embarked',\n",
       "                                                  Pipeline(steps=[('imputer',\n",
       "                                                                   SimpleImputer(strategy='most_frequent')),\n",
       "                                                                  ('onehot',\n",
       "                                                                   OneHotEncoder())]),\n",
       "                                                  ['Embarked']),\n",
       "                                                 ('Onehot',\n",
       "                                                  OneHotEncoder(handle_unknown='ignore'),\n",
       "                                                  ['Sex', 'Pclass'])])),\n",
       "                ('classifier', LogisticRegression())])"
      ]
     },
     "execution_count": 22,
     "metadata": {},
     "output_type": "execute_result"
    }
   ],
   "source": [
    "%%time\n",
    "baseline_clf.fit(train, y_train);"
   ]
  },
  {
   "cell_type": "markdown",
   "id": "e1a9568b",
   "metadata": {},
   "source": [
    "## Оценка метрик"
   ]
  },
  {
   "cell_type": "code",
   "execution_count": 24,
   "id": "fe47c72f",
   "metadata": {},
   "outputs": [
    {
     "data": {
      "image/png": "[encoded data removed]",
      "text/plain": [
       "<Figure size 432x288 with 1 Axes>"
      ]
     },
     "metadata": {
      "needs_background": "light"
     },
     "output_type": "display_data"
    }
   ],
   "source": [
    "from sklearn.metrics import plot_roc_curve\n",
    "\n",
    "plot_roc_curve(baseline_clf, test, y_test);"
   ]
  }
 ],
 "metadata": {
  "kernelspec": {
   "display_name": "Python 3 (ipykernel)",
   "language": "python",
   "name": "python3"
  },
  "language_info": {
   "codemirror_mode": {
    "name": "ipython",
    "version": 3
   },
   "file_extension": ".py",
   "mimetype": "text/x-python",
   "name": "python",
   "nbconvert_exporter": "python",
   "pygments_lexer": "ipython3",
   "version": "3.8.2"
  }
 },
 "nbformat": 4,
 "nbformat_minor": 5
}
